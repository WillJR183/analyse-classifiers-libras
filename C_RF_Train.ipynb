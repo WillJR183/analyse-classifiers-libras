{
 "cells": [
  {
   "cell_type": "code",
   "execution_count": 1,
   "id": "generous-limit",
   "metadata": {},
   "outputs": [],
   "source": [
    "# Bibliotecas - Tensorflow, Keras e Sklearn\n",
    "\n",
    "from sklearn import preprocessing\n",
    "from sklearn.ensemble import RandomForestClassifier\n",
    "from sklearn.metrics import accuracy_score, confusion_matrix\n",
    "from tensorflow.keras.models import Sequential, Model\n",
    "from tensorflow.keras.layers import Conv2D, MaxPool2D, Flatten\n",
    "\n",
    "# Bibliotecas auxiliares\n",
    "\n",
    "import matplotlib.pyplot as plt\n",
    "import pandas as pd\n",
    "import numpy as np\n",
    "import splitfolders\n",
    "import datetime\n",
    "import pickle\n",
    "import random\n",
    "import shutil\n",
    "import time\n",
    "import glob\n",
    "import cv2\n",
    "import os\n",
    "\n",
    "# Meus módulos\n",
    "from cf_matrix import make_confusion_matrix"
   ]
  },
  {
   "cell_type": "code",
   "execution_count": 2,
   "id": "living-railway",
   "metadata": {},
   "outputs": [],
   "source": [
    "# Funções para obter data e hora do treinamento\n",
    "\n",
    "def ObterData():\n",
    "    return str('{date:%Y%m%d_%H%M}').format(date = datetime.datetime.now())\n",
    "\n",
    "def ObterTempoExec(inicio, fim):\n",
    "    return (fim - inicio) / 60"
   ]
  },
  {
   "cell_type": "code",
   "execution_count": 3,
   "id": "alert-louis",
   "metadata": {},
   "outputs": [
    {
     "name": "stdout",
     "output_type": "stream",
     "text": [
      "\n",
      "[INFO] Inicializando script...\n",
      "\n",
      "[INFO] Criando sub-conjuntos de dados...\n",
      "\n",
      "[INFO] Tempo de execução: 20.7 min\n"
     ]
    }
   ],
   "source": [
    "print('\\n[INFO] Inicializando script...\\n')\n",
    "\n",
    "print('[INFO] Criando sub-conjuntos de dados...\\n')\n",
    "inicio = time.time()\n",
    "\n",
    "# Gera a semente aleatória\n",
    "random_seed = random.randint(1, 1000)\n",
    "\n",
    "# Splitfolders para separar o conjunto de dados em sub-conjuntos\n",
    "\n",
    "splitfolders.ratio(input = 'dataset_full', output = 'dataset_split',\n",
    "                   seed = random_seed, ratio = (0.8, 0.2),\n",
    "                   group_prefix = None)\n",
    "\n",
    "fim = time.time()\n",
    "print('[INFO] Tempo de execução: %.1f min' %(ObterTempoExec(inicio, fim)))"
   ]
  },
  {
   "cell_type": "code",
   "execution_count": 4,
   "id": "owned-burden",
   "metadata": {},
   "outputs": [],
   "source": [
    "# Variáveis e Diretórios\n",
    "\n",
    "FILE_NAME = 'rf_model_'\n",
    "file_date = ObterData()\n",
    "\n",
    "DATA_TRAIN = 'dataset_split/train' # diretório de treino\n",
    "DATA_TEST = 'dataset_split/val' # diretório de teste\n",
    "\n",
    "SIZE = 64 # dimensão da imagem\n",
    "CHANNEL = 3 # RGB\n",
    "INPUT_SHAPE = (SIZE, SIZE, CHANNEL) # formato de entrada\n",
    "\n",
    "CLASSES = ['A','B','C','D','E','F','G','I','L','M','N','O','P','Q','R','S',\n",
    "           'T','U','V','W','Y'] # classes do conjunto de dados"
   ]
  },
  {
   "cell_type": "markdown",
   "id": "unlimited-execution",
   "metadata": {},
   "source": [
    "# LEITURA E PRÉ PROCESSAMENTO DAS IMAGENS"
   ]
  },
  {
   "cell_type": "code",
   "execution_count": 5,
   "id": "brazilian-thanks",
   "metadata": {},
   "outputs": [
    {
     "name": "stdout",
     "output_type": "stream",
     "text": [
      "A\n",
      "B\n",
      "C\n",
      "D\n",
      "E\n",
      "F\n",
      "G\n",
      "I\n",
      "L\n",
      "M\n",
      "N\n",
      "O\n",
      "P\n",
      "Q\n",
      "R\n",
      "S\n",
      "T\n",
      "U\n",
      "V\n",
      "W\n",
      "Y\n"
     ]
    }
   ],
   "source": [
    "# Listas para receber os valores e os labels\n",
    "\n",
    "train_images = []\n",
    "train_labels = []\n",
    "\n",
    "# Percorre todas as pastas do dir de treino\n",
    "for directory_path in glob.glob(DATA_TRAIN + \"/*\"):\n",
    "    \n",
    "    # Atribui o rótulo da pasta a label\n",
    "    label = directory_path.split(\"\\\\\")[-1]\n",
    "    print(label)\n",
    "    \n",
    "    # Percorre todos os arquivos das pastas do dir de treino\n",
    "    for img_path in glob.glob(os.path.join(directory_path, \"*.png\")):\n",
    "        \n",
    "        # Lê a imagem, redimensiona e insere na lista\n",
    "        img = cv2.imread(img_path, cv2.IMREAD_COLOR)\n",
    "        img = cv2.resize(img, (SIZE, SIZE))\n",
    "        \n",
    "        train_images.append(img)\n",
    "        train_labels.append(label)\n",
    "        \n",
    "# Transforma as listas em matrizes numpy\n",
    "train_images = np.array(train_images)\n",
    "train_labels = np.array(train_labels)"
   ]
  },
  {
   "cell_type": "code",
   "execution_count": 6,
   "id": "stock-fisher",
   "metadata": {},
   "outputs": [
    {
     "name": "stdout",
     "output_type": "stream",
     "text": [
      "A\n",
      "B\n",
      "C\n",
      "D\n",
      "E\n",
      "F\n",
      "G\n",
      "I\n",
      "L\n",
      "M\n",
      "N\n",
      "O\n",
      "P\n",
      "Q\n",
      "R\n",
      "S\n",
      "T\n",
      "U\n",
      "V\n",
      "W\n",
      "Y\n"
     ]
    }
   ],
   "source": [
    "# obs: mesmo processo do trecho acima, porém com o conjunto de teste\n",
    "\n",
    "test_images = []\n",
    "test_labels = []\n",
    "\n",
    "for directory_path in glob.glob(DATA_TEST + \"/*\"):\n",
    "    \n",
    "    sign_label = directory_path.split(\"\\\\\")[-1]\n",
    "    print(sign_label)\n",
    "    \n",
    "    for img_path in glob.glob(os.path.join(directory_path, \"*.png\")):\n",
    "        \n",
    "        img = cv2.imread(img_path, cv2.IMREAD_COLOR)\n",
    "        img = cv2.resize(img, (SIZE, SIZE))\n",
    "        \n",
    "        test_images.append(img)\n",
    "        test_labels.append(sign_label)\n",
    "\n",
    "test_images = np.array(test_images)\n",
    "test_labels = np.array(test_labels)"
   ]
  },
  {
   "cell_type": "code",
   "execution_count": 7,
   "id": "seeing-customs",
   "metadata": {},
   "outputs": [],
   "source": [
    "# Transforma os rótulos de texto para o formato numérico\n",
    "\n",
    "label_to_id = {v:i for i,v in enumerate(np.unique(train_labels))}\n",
    "id_to_label = {v: k for k, v in label_to_id.items()}\n",
    "\n",
    "train_labels_ids = np.array([label_to_id[x] for x in train_labels])\n",
    "test_labels_ids = np.array([label_to_id[x] for x in test_labels])"
   ]
  },
  {
   "cell_type": "code",
   "execution_count": 8,
   "id": "ultimate-correction",
   "metadata": {},
   "outputs": [],
   "source": [
    "# atribuo os dados em dois conjuntos para treino e teste\n",
    "\n",
    "X_train, y_train, X_test, y_test = train_images, train_labels_ids, test_images, test_labels_ids"
   ]
  },
  {
   "cell_type": "code",
   "execution_count": 9,
   "id": "assumed-residence",
   "metadata": {},
   "outputs": [],
   "source": [
    "# Limpa as variáveis\n",
    "\n",
    "train_images = None\n",
    "test_images = None"
   ]
  },
  {
   "cell_type": "code",
   "execution_count": 10,
   "id": "effective-detector",
   "metadata": {},
   "outputs": [],
   "source": [
    "# normaliza/rescala os pixels que estão com valores entre 0 a 255 para 0 a 1\n",
    "\n",
    "X_train, X_test = X_train / 255.0, X_test / 255.0"
   ]
  },
  {
   "cell_type": "markdown",
   "id": "detailed-independence",
   "metadata": {},
   "source": [
    "# EXTRATOR DE RECURSOS"
   ]
  },
  {
   "cell_type": "code",
   "execution_count": 11,
   "id": "chubby-investor",
   "metadata": {},
   "outputs": [],
   "source": [
    "extractor = Sequential()\n",
    "\n",
    "extractor.add(Conv2D(8, 3, padding='same', input_shape = (SIZE,SIZE,3), activation='relu'))\n",
    "extractor.add(MaxPool2D(pool_size = (2,2)))\n",
    "\n",
    "extractor.add(Conv2D(16, 3, padding='same', activation='relu'))\n",
    "extractor.add(MaxPool2D(pool_size = (2,2)))\n",
    "\n",
    "extractor.add(Conv2D(32, 3, padding='same', activation='relu'))\n",
    "extractor.add(MaxPool2D(pool_size = (2,2)))\n",
    "\n",
    "extractor.add(Flatten())"
   ]
  },
  {
   "cell_type": "code",
   "execution_count": 12,
   "id": "popular-stadium",
   "metadata": {},
   "outputs": [
    {
     "name": "stdout",
     "output_type": "stream",
     "text": [
      "Model: \"sequential\"\n",
      "_________________________________________________________________\n",
      "Layer (type)                 Output Shape              Param #   \n",
      "=================================================================\n",
      "conv2d (Conv2D)              (None, 64, 64, 8)         224       \n",
      "_________________________________________________________________\n",
      "max_pooling2d (MaxPooling2D) (None, 32, 32, 8)         0         \n",
      "_________________________________________________________________\n",
      "conv2d_1 (Conv2D)            (None, 32, 32, 16)        1168      \n",
      "_________________________________________________________________\n",
      "max_pooling2d_1 (MaxPooling2 (None, 16, 16, 16)        0         \n",
      "_________________________________________________________________\n",
      "conv2d_2 (Conv2D)            (None, 16, 16, 32)        4640      \n",
      "_________________________________________________________________\n",
      "max_pooling2d_2 (MaxPooling2 (None, 8, 8, 32)          0         \n",
      "_________________________________________________________________\n",
      "flatten (Flatten)            (None, 2048)              0         \n",
      "=================================================================\n",
      "Total params: 6,032\n",
      "Trainable params: 6,032\n",
      "Non-trainable params: 0\n",
      "_________________________________________________________________\n"
     ]
    }
   ],
   "source": [
    "extractor.summary()"
   ]
  },
  {
   "cell_type": "code",
   "execution_count": 13,
   "id": "cosmetic-slope",
   "metadata": {},
   "outputs": [],
   "source": [
    "# Captura os recuros gerados através da camada de flatten (onde os valores estão achatados em um vetor)\n",
    "# Que é a saída do nosso extrator\n",
    "\n",
    "layer_name = 'flatten'\n",
    "flatten_layer = Model(inputs = extractor.input, outputs = extractor.get_layer(layer_name).output)"
   ]
  },
  {
   "cell_type": "code",
   "execution_count": 14,
   "id": "naval-georgia",
   "metadata": {},
   "outputs": [],
   "source": [
    "# Extraindo os recursos de cada imagem do treino através do nosso extrator\n",
    "# A quantidade de recursos na flatten determina a quantidade de recursos para cada imagem\n",
    "\n",
    "i = 0\n",
    "features = np.zeros(shape = (X_train.shape[0], 2048))\n",
    "\n",
    "for directory_path in glob.glob(DATA_TRAIN + \"/*\"):\n",
    "    \n",
    "    for img_path in glob.glob(os.path.join(directory_path, \"*.png\")):\n",
    "        \n",
    "        img = cv2.imread(img_path, cv2.IMREAD_COLOR)    \n",
    "        img = cv2.resize(img, (SIZE, SIZE))\n",
    "        \n",
    "        img = np.expand_dims(img, axis = 0)\n",
    "        flatten_output = flatten_layer.predict(img)\n",
    "        features[i] = flatten_output\n",
    "        \n",
    "        i += 1"
   ]
  },
  {
   "cell_type": "code",
   "execution_count": 15,
   "id": "waiting-consumer",
   "metadata": {},
   "outputs": [],
   "source": [
    "# Nomeia as linhas como recursos -> f_0, f_1, f_2 . . .\n",
    "\n",
    "feature_col = []\n",
    "\n",
    "for i in range(2048):\n",
    "    feature_col.append(\"f_\"+str(i))\n",
    "    i += 1"
   ]
  },
  {
   "cell_type": "code",
   "execution_count": 16,
   "id": "large-leone",
   "metadata": {},
   "outputs": [
    {
     "name": "stdout",
     "output_type": "stream",
     "text": [
      "Training Features Shape: (37008, 2048)\n",
      "Training Labels Shape: (37008,)\n"
     ]
    },
    {
     "data": {
      "text/plain": [
       "[0, 1, 2, 3, 4, 5, 6, 7, 8, 9, 10, 11, 12, 13, 14, 15, 16, 17, 18, 19, 20]"
      ]
     },
     "execution_count": 16,
     "metadata": {},
     "output_type": "execute_result"
    }
   ],
   "source": [
    "# Cria um Dataframe com os nomes e valores dos recursos \n",
    "\n",
    "train_features = pd.DataFrame(data = features, columns = feature_col)\n",
    "feature_col = np.array(feature_col)\n",
    "\n",
    "train_class = list(np.unique(train_labels_ids))\n",
    "\n",
    "print('Training Features Shape:', train_features.shape)\n",
    "print('Training Labels Shape:', train_labels_ids.shape)\n",
    "\n",
    "train_class"
   ]
  },
  {
   "cell_type": "code",
   "execution_count": 17,
   "id": "israeli-albert",
   "metadata": {},
   "outputs": [
    {
     "data": {
      "text/html": [
       "<div>\n",
       "<style scoped>\n",
       "    .dataframe tbody tr th:only-of-type {\n",
       "        vertical-align: middle;\n",
       "    }\n",
       "\n",
       "    .dataframe tbody tr th {\n",
       "        vertical-align: top;\n",
       "    }\n",
       "\n",
       "    .dataframe thead th {\n",
       "        text-align: right;\n",
       "    }\n",
       "</style>\n",
       "<table border=\"1\" class=\"dataframe\">\n",
       "  <thead>\n",
       "    <tr style=\"text-align: right;\">\n",
       "      <th></th>\n",
       "      <th>f_0</th>\n",
       "      <th>f_1</th>\n",
       "      <th>f_2</th>\n",
       "      <th>f_3</th>\n",
       "      <th>f_4</th>\n",
       "      <th>f_5</th>\n",
       "      <th>f_6</th>\n",
       "      <th>f_7</th>\n",
       "      <th>f_8</th>\n",
       "      <th>f_9</th>\n",
       "      <th>...</th>\n",
       "      <th>f_2038</th>\n",
       "      <th>f_2039</th>\n",
       "      <th>f_2040</th>\n",
       "      <th>f_2041</th>\n",
       "      <th>f_2042</th>\n",
       "      <th>f_2043</th>\n",
       "      <th>f_2044</th>\n",
       "      <th>f_2045</th>\n",
       "      <th>f_2046</th>\n",
       "      <th>f_2047</th>\n",
       "    </tr>\n",
       "  </thead>\n",
       "  <tbody>\n",
       "    <tr>\n",
       "      <th>0</th>\n",
       "      <td>11.613594</td>\n",
       "      <td>4.396462</td>\n",
       "      <td>0.0</td>\n",
       "      <td>25.035751</td>\n",
       "      <td>26.577129</td>\n",
       "      <td>27.229969</td>\n",
       "      <td>8.395553</td>\n",
       "      <td>9.356200</td>\n",
       "      <td>28.778156</td>\n",
       "      <td>5.921926</td>\n",
       "      <td>...</td>\n",
       "      <td>0.0</td>\n",
       "      <td>1.253208</td>\n",
       "      <td>14.059825</td>\n",
       "      <td>0.0</td>\n",
       "      <td>14.752256</td>\n",
       "      <td>5.454573</td>\n",
       "      <td>26.435343</td>\n",
       "      <td>5.592546</td>\n",
       "      <td>15.780231</td>\n",
       "      <td>12.306380</td>\n",
       "    </tr>\n",
       "    <tr>\n",
       "      <th>1</th>\n",
       "      <td>11.642136</td>\n",
       "      <td>4.106272</td>\n",
       "      <td>0.0</td>\n",
       "      <td>25.204800</td>\n",
       "      <td>27.209068</td>\n",
       "      <td>28.274387</td>\n",
       "      <td>8.402514</td>\n",
       "      <td>9.879939</td>\n",
       "      <td>30.517548</td>\n",
       "      <td>7.119217</td>\n",
       "      <td>...</td>\n",
       "      <td>0.0</td>\n",
       "      <td>1.390683</td>\n",
       "      <td>14.553936</td>\n",
       "      <td>0.0</td>\n",
       "      <td>15.014150</td>\n",
       "      <td>5.234823</td>\n",
       "      <td>27.084949</td>\n",
       "      <td>5.309928</td>\n",
       "      <td>15.758938</td>\n",
       "      <td>12.708414</td>\n",
       "    </tr>\n",
       "    <tr>\n",
       "      <th>2</th>\n",
       "      <td>17.810658</td>\n",
       "      <td>5.958069</td>\n",
       "      <td>0.0</td>\n",
       "      <td>40.017033</td>\n",
       "      <td>43.864449</td>\n",
       "      <td>45.289009</td>\n",
       "      <td>14.110189</td>\n",
       "      <td>15.668675</td>\n",
       "      <td>46.949932</td>\n",
       "      <td>11.084447</td>\n",
       "      <td>...</td>\n",
       "      <td>0.0</td>\n",
       "      <td>3.013096</td>\n",
       "      <td>43.117348</td>\n",
       "      <td>0.0</td>\n",
       "      <td>34.823261</td>\n",
       "      <td>9.921666</td>\n",
       "      <td>59.798401</td>\n",
       "      <td>12.350441</td>\n",
       "      <td>32.996780</td>\n",
       "      <td>30.229370</td>\n",
       "    </tr>\n",
       "    <tr>\n",
       "      <th>3</th>\n",
       "      <td>18.078165</td>\n",
       "      <td>5.824572</td>\n",
       "      <td>0.0</td>\n",
       "      <td>40.199783</td>\n",
       "      <td>43.754890</td>\n",
       "      <td>45.480034</td>\n",
       "      <td>14.225178</td>\n",
       "      <td>15.463298</td>\n",
       "      <td>46.928883</td>\n",
       "      <td>10.983285</td>\n",
       "      <td>...</td>\n",
       "      <td>0.0</td>\n",
       "      <td>3.016919</td>\n",
       "      <td>41.767517</td>\n",
       "      <td>0.0</td>\n",
       "      <td>34.805187</td>\n",
       "      <td>9.815576</td>\n",
       "      <td>60.993202</td>\n",
       "      <td>12.238617</td>\n",
       "      <td>33.619114</td>\n",
       "      <td>30.338818</td>\n",
       "    </tr>\n",
       "    <tr>\n",
       "      <th>4</th>\n",
       "      <td>18.095596</td>\n",
       "      <td>5.873848</td>\n",
       "      <td>0.0</td>\n",
       "      <td>40.167683</td>\n",
       "      <td>43.649593</td>\n",
       "      <td>45.564804</td>\n",
       "      <td>14.340168</td>\n",
       "      <td>15.632047</td>\n",
       "      <td>46.967804</td>\n",
       "      <td>11.242489</td>\n",
       "      <td>...</td>\n",
       "      <td>0.0</td>\n",
       "      <td>4.711346</td>\n",
       "      <td>35.962902</td>\n",
       "      <td>0.0</td>\n",
       "      <td>33.867073</td>\n",
       "      <td>9.629003</td>\n",
       "      <td>59.415428</td>\n",
       "      <td>12.586864</td>\n",
       "      <td>34.647114</td>\n",
       "      <td>30.115541</td>\n",
       "    </tr>\n",
       "  </tbody>\n",
       "</table>\n",
       "<p>5 rows × 2048 columns</p>\n",
       "</div>"
      ],
      "text/plain": [
       "         f_0       f_1  f_2        f_3        f_4        f_5        f_6  \\\n",
       "0  11.613594  4.396462  0.0  25.035751  26.577129  27.229969   8.395553   \n",
       "1  11.642136  4.106272  0.0  25.204800  27.209068  28.274387   8.402514   \n",
       "2  17.810658  5.958069  0.0  40.017033  43.864449  45.289009  14.110189   \n",
       "3  18.078165  5.824572  0.0  40.199783  43.754890  45.480034  14.225178   \n",
       "4  18.095596  5.873848  0.0  40.167683  43.649593  45.564804  14.340168   \n",
       "\n",
       "         f_7        f_8        f_9  ...  f_2038    f_2039     f_2040  f_2041  \\\n",
       "0   9.356200  28.778156   5.921926  ...     0.0  1.253208  14.059825     0.0   \n",
       "1   9.879939  30.517548   7.119217  ...     0.0  1.390683  14.553936     0.0   \n",
       "2  15.668675  46.949932  11.084447  ...     0.0  3.013096  43.117348     0.0   \n",
       "3  15.463298  46.928883  10.983285  ...     0.0  3.016919  41.767517     0.0   \n",
       "4  15.632047  46.967804  11.242489  ...     0.0  4.711346  35.962902     0.0   \n",
       "\n",
       "      f_2042    f_2043     f_2044     f_2045     f_2046     f_2047  \n",
       "0  14.752256  5.454573  26.435343   5.592546  15.780231  12.306380  \n",
       "1  15.014150  5.234823  27.084949   5.309928  15.758938  12.708414  \n",
       "2  34.823261  9.921666  59.798401  12.350441  32.996780  30.229370  \n",
       "3  34.805187  9.815576  60.993202  12.238617  33.619114  30.338818  \n",
       "4  33.867073  9.629003  59.415428  12.586864  34.647114  30.115541  \n",
       "\n",
       "[5 rows x 2048 columns]"
      ]
     },
     "execution_count": 17,
     "metadata": {},
     "output_type": "execute_result"
    }
   ],
   "source": [
    "train_features.head()"
   ]
  },
  {
   "cell_type": "code",
   "execution_count": 18,
   "id": "decimal-valuable",
   "metadata": {},
   "outputs": [],
   "source": [
    "# Mesmo processo de extração de recuros usado no treino, porém aqui com os dados de teste\n",
    "\n",
    "i = 0\n",
    "features_test=np.zeros(shape=(y_test.shape[0], 2048))\n",
    "\n",
    "for directory_path in glob.glob(DATA_TEST + \"/*\"):\n",
    "        \n",
    "    for img_path in glob.glob(os.path.join(directory_path, \"*.png\")):\n",
    "        \n",
    "        img = cv2.imread(img_path, cv2.IMREAD_COLOR)    \n",
    "        img = cv2.resize(img, (SIZE, SIZE))\n",
    "        \n",
    "        img = np.expand_dims(img, axis=0)\n",
    "        flatten_output = flatten_layer.predict(img)\n",
    "        features_test[i]= flatten_output\n",
    "        \n",
    "        i+=1"
   ]
  },
  {
   "cell_type": "code",
   "execution_count": 19,
   "id": "motivated-finish",
   "metadata": {},
   "outputs": [
    {
     "name": "stdout",
     "output_type": "stream",
     "text": [
      "Test Features Shape: (9254, 2048)\n",
      "Test Labels Shape: (9254,)\n"
     ]
    }
   ],
   "source": [
    "# Cria um Dataframe com os nomes e valores dos recursos\n",
    "\n",
    "test_features = pd.DataFrame(data=features_test, columns=feature_col)\n",
    "feature_col = np.array(feature_col)\n",
    "\n",
    "print('Test Features Shape:', test_features.shape)\n",
    "print('Test Labels Shape:', test_labels_ids.shape)"
   ]
  },
  {
   "cell_type": "code",
   "execution_count": 20,
   "id": "canadian-profile",
   "metadata": {},
   "outputs": [
    {
     "data": {
      "text/html": [
       "<div>\n",
       "<style scoped>\n",
       "    .dataframe tbody tr th:only-of-type {\n",
       "        vertical-align: middle;\n",
       "    }\n",
       "\n",
       "    .dataframe tbody tr th {\n",
       "        vertical-align: top;\n",
       "    }\n",
       "\n",
       "    .dataframe thead th {\n",
       "        text-align: right;\n",
       "    }\n",
       "</style>\n",
       "<table border=\"1\" class=\"dataframe\">\n",
       "  <thead>\n",
       "    <tr style=\"text-align: right;\">\n",
       "      <th></th>\n",
       "      <th>f_0</th>\n",
       "      <th>f_1</th>\n",
       "      <th>f_2</th>\n",
       "      <th>f_3</th>\n",
       "      <th>f_4</th>\n",
       "      <th>f_5</th>\n",
       "      <th>f_6</th>\n",
       "      <th>f_7</th>\n",
       "      <th>f_8</th>\n",
       "      <th>f_9</th>\n",
       "      <th>...</th>\n",
       "      <th>f_2038</th>\n",
       "      <th>f_2039</th>\n",
       "      <th>f_2040</th>\n",
       "      <th>f_2041</th>\n",
       "      <th>f_2042</th>\n",
       "      <th>f_2043</th>\n",
       "      <th>f_2044</th>\n",
       "      <th>f_2045</th>\n",
       "      <th>f_2046</th>\n",
       "      <th>f_2047</th>\n",
       "    </tr>\n",
       "  </thead>\n",
       "  <tbody>\n",
       "    <tr>\n",
       "      <th>0</th>\n",
       "      <td>15.953975</td>\n",
       "      <td>4.325819</td>\n",
       "      <td>0.0</td>\n",
       "      <td>35.850662</td>\n",
       "      <td>39.632027</td>\n",
       "      <td>42.640491</td>\n",
       "      <td>13.088956</td>\n",
       "      <td>14.119717</td>\n",
       "      <td>42.411888</td>\n",
       "      <td>10.981654</td>\n",
       "      <td>...</td>\n",
       "      <td>0.0</td>\n",
       "      <td>2.117057</td>\n",
       "      <td>28.557211</td>\n",
       "      <td>0.0</td>\n",
       "      <td>29.984564</td>\n",
       "      <td>11.943789</td>\n",
       "      <td>52.211422</td>\n",
       "      <td>10.922163</td>\n",
       "      <td>31.632624</td>\n",
       "      <td>26.586966</td>\n",
       "    </tr>\n",
       "    <tr>\n",
       "      <th>1</th>\n",
       "      <td>18.205353</td>\n",
       "      <td>6.116775</td>\n",
       "      <td>0.0</td>\n",
       "      <td>40.396439</td>\n",
       "      <td>43.992374</td>\n",
       "      <td>45.192017</td>\n",
       "      <td>14.404650</td>\n",
       "      <td>15.747183</td>\n",
       "      <td>47.061623</td>\n",
       "      <td>10.973241</td>\n",
       "      <td>...</td>\n",
       "      <td>0.0</td>\n",
       "      <td>5.496141</td>\n",
       "      <td>36.379410</td>\n",
       "      <td>0.0</td>\n",
       "      <td>32.546253</td>\n",
       "      <td>9.648134</td>\n",
       "      <td>60.860287</td>\n",
       "      <td>16.009089</td>\n",
       "      <td>37.023548</td>\n",
       "      <td>30.212204</td>\n",
       "    </tr>\n",
       "    <tr>\n",
       "      <th>2</th>\n",
       "      <td>18.010345</td>\n",
       "      <td>5.935387</td>\n",
       "      <td>0.0</td>\n",
       "      <td>40.282703</td>\n",
       "      <td>43.734982</td>\n",
       "      <td>45.559017</td>\n",
       "      <td>14.409931</td>\n",
       "      <td>15.569498</td>\n",
       "      <td>46.915134</td>\n",
       "      <td>11.061447</td>\n",
       "      <td>...</td>\n",
       "      <td>0.0</td>\n",
       "      <td>5.614117</td>\n",
       "      <td>36.010101</td>\n",
       "      <td>0.0</td>\n",
       "      <td>32.732544</td>\n",
       "      <td>10.246421</td>\n",
       "      <td>61.156475</td>\n",
       "      <td>14.497836</td>\n",
       "      <td>36.079380</td>\n",
       "      <td>30.095583</td>\n",
       "    </tr>\n",
       "    <tr>\n",
       "      <th>3</th>\n",
       "      <td>18.274439</td>\n",
       "      <td>5.822301</td>\n",
       "      <td>0.0</td>\n",
       "      <td>40.164532</td>\n",
       "      <td>43.775158</td>\n",
       "      <td>45.623516</td>\n",
       "      <td>14.584169</td>\n",
       "      <td>15.826113</td>\n",
       "      <td>46.964966</td>\n",
       "      <td>11.034492</td>\n",
       "      <td>...</td>\n",
       "      <td>0.0</td>\n",
       "      <td>5.574103</td>\n",
       "      <td>34.677971</td>\n",
       "      <td>0.0</td>\n",
       "      <td>32.775970</td>\n",
       "      <td>10.414117</td>\n",
       "      <td>60.420364</td>\n",
       "      <td>12.945090</td>\n",
       "      <td>35.269005</td>\n",
       "      <td>30.395744</td>\n",
       "    </tr>\n",
       "    <tr>\n",
       "      <th>4</th>\n",
       "      <td>18.118153</td>\n",
       "      <td>5.936803</td>\n",
       "      <td>0.0</td>\n",
       "      <td>40.235889</td>\n",
       "      <td>43.949863</td>\n",
       "      <td>45.373058</td>\n",
       "      <td>14.459060</td>\n",
       "      <td>15.777263</td>\n",
       "      <td>47.018044</td>\n",
       "      <td>11.126542</td>\n",
       "      <td>...</td>\n",
       "      <td>0.0</td>\n",
       "      <td>5.185746</td>\n",
       "      <td>35.099644</td>\n",
       "      <td>0.0</td>\n",
       "      <td>33.062218</td>\n",
       "      <td>9.569876</td>\n",
       "      <td>59.941704</td>\n",
       "      <td>12.687011</td>\n",
       "      <td>35.230537</td>\n",
       "      <td>30.252035</td>\n",
       "    </tr>\n",
       "  </tbody>\n",
       "</table>\n",
       "<p>5 rows × 2048 columns</p>\n",
       "</div>"
      ],
      "text/plain": [
       "         f_0       f_1  f_2        f_3        f_4        f_5        f_6  \\\n",
       "0  15.953975  4.325819  0.0  35.850662  39.632027  42.640491  13.088956   \n",
       "1  18.205353  6.116775  0.0  40.396439  43.992374  45.192017  14.404650   \n",
       "2  18.010345  5.935387  0.0  40.282703  43.734982  45.559017  14.409931   \n",
       "3  18.274439  5.822301  0.0  40.164532  43.775158  45.623516  14.584169   \n",
       "4  18.118153  5.936803  0.0  40.235889  43.949863  45.373058  14.459060   \n",
       "\n",
       "         f_7        f_8        f_9  ...  f_2038    f_2039     f_2040  f_2041  \\\n",
       "0  14.119717  42.411888  10.981654  ...     0.0  2.117057  28.557211     0.0   \n",
       "1  15.747183  47.061623  10.973241  ...     0.0  5.496141  36.379410     0.0   \n",
       "2  15.569498  46.915134  11.061447  ...     0.0  5.614117  36.010101     0.0   \n",
       "3  15.826113  46.964966  11.034492  ...     0.0  5.574103  34.677971     0.0   \n",
       "4  15.777263  47.018044  11.126542  ...     0.0  5.185746  35.099644     0.0   \n",
       "\n",
       "      f_2042     f_2043     f_2044     f_2045     f_2046     f_2047  \n",
       "0  29.984564  11.943789  52.211422  10.922163  31.632624  26.586966  \n",
       "1  32.546253   9.648134  60.860287  16.009089  37.023548  30.212204  \n",
       "2  32.732544  10.246421  61.156475  14.497836  36.079380  30.095583  \n",
       "3  32.775970  10.414117  60.420364  12.945090  35.269005  30.395744  \n",
       "4  33.062218   9.569876  59.941704  12.687011  35.230537  30.252035  \n",
       "\n",
       "[5 rows x 2048 columns]"
      ]
     },
     "execution_count": 20,
     "metadata": {},
     "output_type": "execute_result"
    }
   ],
   "source": [
    "test_features.head()"
   ]
  },
  {
   "cell_type": "markdown",
   "id": "friendly-dakota",
   "metadata": {},
   "source": [
    "# TREINAMENTO DO RANDOM FOREST "
   ]
  },
  {
   "cell_type": "code",
   "execution_count": 21,
   "id": "ultimate-prince",
   "metadata": {},
   "outputs": [
    {
     "name": "stdout",
     "output_type": "stream",
     "text": [
      "\n",
      "[INFO] treinando o modelo...\n",
      "\n",
      "[INFO] tempo de execução do modelo: 2.9 min\n",
      "\n",
      "Accuracy: 97.5383700821444 %.\n"
     ]
    }
   ],
   "source": [
    "# Agora que temos os recursos, podemos treinar o RF para aprender com os recursos extraídos do conjunto de treino\n",
    "\n",
    "# RANDOM FOREST FOR CLASSIFIER\n",
    "\n",
    "print('\\n[INFO] treinando o modelo...\\n')\n",
    "inicio = time.time()\n",
    "\n",
    "rf_model = RandomForestClassifier(n_estimators = 50, max_depth=9, criterion='entropy', min_samples_split=2,\n",
    "                                  min_samples_leaf=1, max_features='auto', bootstrap=True)\n",
    "\n",
    "# Passamos o dataframe com os recursos e os rótulos do conjunto de treino\n",
    "\n",
    "rf_model.fit(train_features, train_labels_ids)\n",
    "\n",
    "fim = time.time()\n",
    "print('[INFO] tempo de execução do modelo: %.1f min' %(ObterTempoExec(inicio, fim))+'\\n')\n",
    "\n",
    "# Para fazer a predição preciso do train_features e train_labels_ids (rótulos do treino)\n",
    "\n",
    "result_prediction = rf_model.predict(train_features)\n",
    "\n",
    "accuracy=accuracy_score(result_prediction , train_labels_ids)\n",
    "print('Accuracy:', accuracy*100, '%.')"
   ]
  },
  {
   "cell_type": "code",
   "execution_count": 22,
   "id": "precious-campbell",
   "metadata": {},
   "outputs": [
    {
     "name": "stdout",
     "output_type": "stream",
     "text": [
      "Accuracy: 95.68835098335855 %.\n"
     ]
    }
   ],
   "source": [
    "# para fazer a predição do test depois de carregar o modelo, preciso do test_features e test_labels_ids (rótulos do teste)\n",
    "\n",
    "result_prediction_test = rf_model.predict(test_features)\n",
    "\n",
    "accuracy=accuracy_score(result_prediction_test , test_labels_ids)\n",
    "print('Accuracy:', accuracy*100, '%.')"
   ]
  },
  {
   "cell_type": "markdown",
   "id": "regulated-juvenile",
   "metadata": {},
   "source": [
    "## 1 - tempo: 3.1 min / acc_train: 97.42% / acc_test: 96.72%\n",
    "\n",
    "## 2-  tempo: 2.8 min / acc_train: 97.34% / acc_test: 96.06%\n",
    "\n",
    "## 3 - tempo: 3.4 min / acc_train: 97.47% / acc_test: 96.33%\n",
    "\n",
    "## 4 - tempo: 3.2 min / acc_train: 97.65% / acc_test: 96.35%\n",
    "\n",
    "## 5 - tempo: 3.4 min / acc_train: 97.53% / acc_test: 96.61%\n",
    "\n",
    "## 6 - tempo: 2.5 min / acc_train: 97.48% / acc_test: 96.43%\n",
    "\n",
    "## 7 - tempo: 2.7 min / acc_train: 98.04% / acc_test: 96.46%\n",
    "\n",
    "## 8 - tempo: 3.4 min / acc_train: 97.76% / acc_test: 96.73%\n",
    "\n",
    "## 9 - tempo: 3.6 min / acc_train: 97.96% / acc_test: 97.01%\n",
    "\n",
    "## 10 - tempo: 2.9 min / acc_train: 97.53% / acc_test: 95.68%"
   ]
  },
  {
   "cell_type": "markdown",
   "id": "adapted-habitat",
   "metadata": {},
   "source": [
    "# MATRIZ DE CONFUSÃO"
   ]
  },
  {
   "cell_type": "code",
   "execution_count": 23,
   "id": "stable-electron",
   "metadata": {},
   "outputs": [
    {
     "data": {
      "image/png": "[encoded data removed]",
      "text/plain": [
       "<Figure size 1440x720 with 2 Axes>"
      ]
     },
     "metadata": {
      "needs_background": "light"
     },
     "output_type": "display_data"
    }
   ],
   "source": [
    "# gerando matriz de confusão para verificar precisão por classe\n",
    "\n",
    "CLASSES = ['A','B','C','D','E','F','G','I','L','M','N','O','P','Q','R','S','T','U','V','W','Y']\n",
    "\n",
    "cm = confusion_matrix(test_labels_ids, result_prediction_test)\n",
    "make_confusion_matrix(cm, figsize = (20,10), categories = CLASSES)\n",
    "\n",
    "plt.savefig('outputs/confusion_matrix/' + FILE_NAME + file_date + '.png', transparent=True)"
   ]
  },
  {
   "cell_type": "markdown",
   "id": "vocal-bermuda",
   "metadata": {},
   "source": [
    "# RELATÓRIO DE CLASSIFICAÇÃO COM YELLOWBRICK "
   ]
  },
  {
   "cell_type": "code",
   "execution_count": 24,
   "id": "infrared-evidence",
   "metadata": {},
   "outputs": [
    {
     "name": "stderr",
     "output_type": "stream",
     "text": [
      "C:\\Users\\junio\\anaconda3\\envs\\machinelearning\\lib\\site-packages\\yellowbrick\\classifier\\base.py:234: YellowbrickWarning: could not determine class_counts_ from previously fitted classifier\n",
      "  YellowbrickWarning,\n"
     ]
    },
    {
     "data": {
      "image/png": "[encoded data removed]",
      "text/plain": [
       "<Figure size 576x396 with 2 Axes>"
      ]
     },
     "metadata": {},
     "output_type": "display_data"
    },
    {
     "data": {
      "text/plain": [
       "<AxesSubplot:title={'center':'RandomForestClassifier Classification Report'}>"
      ]
     },
     "execution_count": 24,
     "metadata": {},
     "output_type": "execute_result"
    }
   ],
   "source": [
    "from yellowbrick.classifier import ClassificationReport\n",
    "\n",
    "visualizer = ClassificationReport(rf_model, classes=CLASSES, support=True)\n",
    "\n",
    "visualizer.score(test_features, test_labels_ids)\n",
    "visualizer.show()                   "
   ]
  },
  {
   "cell_type": "markdown",
   "id": "experienced-briefs",
   "metadata": {},
   "source": [
    "# SALVANDO O MODELO TREINADO DO RF"
   ]
  },
  {
   "cell_type": "code",
   "execution_count": 25,
   "id": "distributed-township",
   "metadata": {},
   "outputs": [],
   "source": [
    "import pickle\n",
    "\n",
    "FILE_NAME = 'rf_libras_'\n",
    "\n",
    "pickle.dump(rf_model, open('outputs/trained_models/' + FILE_NAME + file_date + '.pickle', 'wb'))"
   ]
  },
  {
   "cell_type": "code",
   "execution_count": 26,
   "id": "underlying-freeware",
   "metadata": {},
   "outputs": [
    {
     "name": "stdout",
     "output_type": "stream",
     "text": [
      "[INFO] Apagando sub-conjuntos criados...\n",
      "\n"
     ]
    }
   ],
   "source": [
    "# Limpando sub-conjuntos criados\n",
    "\n",
    "dirPath = 'dataset_split'\n",
    "\n",
    "try:\n",
    "    print('[INFO] Apagando sub-conjuntos criados...\\n')\n",
    "    shutil.rmtree(dirPath)\n",
    "    \n",
    "except OSError as e:\n",
    "    print(f\"Error:{ e.strerror}\")"
   ]
  },
  {
   "cell_type": "code",
   "execution_count": null,
   "id": "inappropriate-determination",
   "metadata": {},
   "outputs": [],
   "source": []
  }
 ],
 "metadata": {
  "kernelspec": {
   "display_name": "Python 3",
   "language": "python",
   "name": "python3"
  },
  "language_info": {
   "codemirror_mode": {
    "name": "ipython",
    "version": 3
   },
   "file_extension": ".py",
   "mimetype": "text/x-python",
   "name": "python",
   "nbconvert_exporter": "python",
   "pygments_lexer": "ipython3",
   "version": "3.7.10"
  }
 },
 "nbformat": 4,
 "nbformat_minor": 5
}
